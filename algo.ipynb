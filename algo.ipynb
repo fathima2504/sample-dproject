{
 "cells": [
  {
   "cell_type": "code",
   "execution_count": 10,
   "id": "d8a77920-5c5d-45ab-a39e-386dab066d2f",
   "metadata": {},
   "outputs": [],
   "source": [
    "# hey babe hey babe how are yopu you  hey babe how are yopu you wiwi wiw  how are yopu you\n",
    "\n",
    "s= \"\"\"apple orange mango grapes apple mango mango guvva\"\"\"\n",
    "\n"
   ]
  },
  {
   "cell_type": "code",
   "execution_count": 22,
   "id": "9e684240-5ded-49c7-97db-4422d0d8c8e6",
   "metadata": {},
   "outputs": [
    {
     "name": "stdout",
     "output_type": "stream",
     "text": [
      "['apple', 'orange', 'mango', 'grapes', 'apple', 'mango', 'mango', 'guvva']\n"
     ]
    }
   ],
   "source": [
    "print(s.split(\" \"))"
   ]
  },
  {
   "cell_type": "code",
   "execution_count": 23,
   "id": "7d4186a8-3e7a-4da2-843c-16928dcd34e7",
   "metadata": {},
   "outputs": [
    {
     "data": {
      "text/plain": [
       "['apple', 'orange', 'mango', 'grapes', 'apple', 'mango', 'mango', 'guvva']"
      ]
     },
     "execution_count": 23,
     "metadata": {},
     "output_type": "execute_result"
    }
   ],
   "source": [
    "fruitbasket=s.split(\" \")\n",
    "fruitbasket\n",
    "# if my_dict[key] is not None:\n",
    "#   my_dict[key] = 1\n",
    "# else:\n",
    "#   my_dict[key] += 1"
   ]
  },
  {
   "cell_type": "code",
   "execution_count": 25,
   "id": "895eebc5-c693-4daf-9414-5f995a8109a8",
   "metadata": {},
   "outputs": [
    {
     "name": "stdout",
     "output_type": "stream",
     "text": [
      "apple\n",
      "   if  apple 1\n",
      "orange\n",
      "   if  orange 1\n",
      "mango\n",
      "   if  mango 1\n",
      "grapes\n",
      "   if  grapes 1\n",
      "apple\n",
      "   else  apple 2\n",
      "mango\n",
      "   else  mango 2\n",
      "mango\n",
      "   else  mango 3\n",
      "guvva\n",
      "   if  guvva 1\n"
     ]
    },
    {
     "data": {
      "text/plain": [
       "{'apple': 2, 'orange': 1, 'mango': 3, 'grapes': 1, 'guvva': 1}"
      ]
     },
     "execution_count": 25,
     "metadata": {},
     "output_type": "execute_result"
    }
   ],
   "source": [
    "my_dict = {}\n",
    "\n",
    "for fruit in fruitbasket:\n",
    "    print(fruit)\n",
    "    if my_dict.get(fruit)  is None:\n",
    "        my_dict[fruit]=1\n",
    "        print('   if ',fruit,my_dict.get(fruit))\n",
    "    else: \n",
    "        my_dict[fruit]=my_dict.get(fruit)+1\n",
    "        print('   else ',fruit,my_dict.get(fruit))\n",
    "        \n",
    "        \n",
    "my_dict "
   ]
  },
  {
   "cell_type": "code",
   "execution_count": null,
   "id": "f2fc68ad-8f6a-43e3-98a5-32ca1b661d86",
   "metadata": {},
   "outputs": [],
   "source": []
  }
 ],
 "metadata": {
  "kernelspec": {
   "display_name": "jvenv",
   "language": "python",
   "name": "jvenv"
  },
  "language_info": {
   "codemirror_mode": {
    "name": "ipython",
    "version": 3
   },
   "file_extension": ".py",
   "mimetype": "text/x-python",
   "name": "python",
   "nbconvert_exporter": "python",
   "pygments_lexer": "ipython3",
   "version": "3.12.2"
  }
 },
 "nbformat": 4,
 "nbformat_minor": 5
}
